{
 "cells": [
  {
   "cell_type": "markdown",
   "metadata": {},
   "source": [
    "### Estratégia\n",
    "* WordNet\n",
    "* SentiWordNet\n",
    "* Emdedding GoogleNews-vectors-negative300"
   ]
  },
  {
   "cell_type": "code",
   "execution_count": 26,
   "metadata": {},
   "outputs": [],
   "source": [
    "import pandas as pd\n",
    "from sklearn.linear_model import Perceptron\n",
    "from gensim.models import word2vec"
   ]
  },
  {
   "cell_type": "code",
   "execution_count": 25,
   "metadata": {},
   "outputs": [],
   "source": [
    "sentiment_lexical_resource = pd.read_csv('../datas/sentiwordnet/sentiwordnet.tsv',sep='\\t')"
   ]
  },
  {
   "cell_type": "code",
   "execution_count": 30,
   "metadata": {},
   "outputs": [],
   "source": [
    "sentiment_lexical_resource = sentiment_lexical_resource.drop(['word_sp','index','meaning','pos'],axis=1)"
   ]
  },
  {
   "cell_type": "code",
   "execution_count": 31,
   "metadata": {},
   "outputs": [
    {
     "data": {
      "text/html": [
       "<div>\n",
       "<style scoped>\n",
       "    .dataframe tbody tr th:only-of-type {\n",
       "        vertical-align: middle;\n",
       "    }\n",
       "\n",
       "    .dataframe tbody tr th {\n",
       "        vertical-align: top;\n",
       "    }\n",
       "\n",
       "    .dataframe thead th {\n",
       "        text-align: right;\n",
       "    }\n",
       "</style>\n",
       "<table border=\"1\" class=\"dataframe\">\n",
       "  <thead>\n",
       "    <tr style=\"text-align: right;\">\n",
       "      <th></th>\n",
       "      <th>word_en</th>\n",
       "      <th>positive</th>\n",
       "      <th>negative</th>\n",
       "      <th>objective</th>\n",
       "      <th>synset</th>\n",
       "    </tr>\n",
       "  </thead>\n",
       "  <tbody>\n",
       "    <tr>\n",
       "      <th>0</th>\n",
       "      <td>neurotropism</td>\n",
       "      <td>0.125</td>\n",
       "      <td>-0.0</td>\n",
       "      <td>0.875</td>\n",
       "      <td>862310</td>\n",
       "    </tr>\n",
       "    <tr>\n",
       "      <th>1</th>\n",
       "      <td>ensorcelled</td>\n",
       "      <td>0.125</td>\n",
       "      <td>-0.0</td>\n",
       "      <td>0.875</td>\n",
       "      <td>865765</td>\n",
       "    </tr>\n",
       "    <tr>\n",
       "      <th>2</th>\n",
       "      <td>bewitched</td>\n",
       "      <td>0.125</td>\n",
       "      <td>-0.0</td>\n",
       "      <td>0.875</td>\n",
       "      <td>865765</td>\n",
       "    </tr>\n",
       "    <tr>\n",
       "      <th>3</th>\n",
       "      <td>mesmerized</td>\n",
       "      <td>0.125</td>\n",
       "      <td>-0.0</td>\n",
       "      <td>0.875</td>\n",
       "      <td>865848</td>\n",
       "    </tr>\n",
       "    <tr>\n",
       "      <th>4</th>\n",
       "      <td>training</td>\n",
       "      <td>0.125</td>\n",
       "      <td>-0.0</td>\n",
       "      <td>0.875</td>\n",
       "      <td>893955</td>\n",
       "    </tr>\n",
       "  </tbody>\n",
       "</table>\n",
       "</div>"
      ],
      "text/plain": [
       "        word_en  positive  negative  objective  synset\n",
       "0  neurotropism     0.125      -0.0      0.875  862310\n",
       "1   ensorcelled     0.125      -0.0      0.875  865765\n",
       "2     bewitched     0.125      -0.0      0.875  865765\n",
       "3    mesmerized     0.125      -0.0      0.875  865848\n",
       "4      training     0.125      -0.0      0.875  893955"
      ]
     },
     "execution_count": 31,
     "metadata": {},
     "output_type": "execute_result"
    }
   ],
   "source": [
    "sentiment_lexical_resource.head()"
   ]
  },
  {
   "cell_type": "code",
   "execution_count": 40,
   "metadata": {},
   "outputs": [],
   "source": [
    "def sentiment_scores(word):\n",
    "    sentiments = {\n",
    "        'positive' : sentiment_lexical_resource.positive[sentiment_lexical_resource.word_en == word].tolist()[0],\n",
    "        'negative' : sentiment_lexical_resource.negative[sentiment_lexical_resource.word_en == word].tolist()[0],\n",
    "        'objective' : sentiment_lexical_resource.objective[sentiment_lexical_resource.word_en == word].tolist()[0]\n",
    "    }\n",
    "    return sentiments"
   ]
  },
  {
   "cell_type": "code",
   "execution_count": 41,
   "metadata": {},
   "outputs": [
    {
     "data": {
      "text/plain": [
       "{'negative': -0.0, 'objective': 0.875, 'positive': 0.125}"
      ]
     },
     "execution_count": 41,
     "metadata": {},
     "output_type": "execute_result"
    }
   ],
   "source": [
    "sentiment_scores('neurotropism')"
   ]
  },
  {
   "cell_type": "code",
   "execution_count": null,
   "metadata": {
    "collapsed": true
   },
   "outputs": [],
   "source": []
  }
 ],
 "metadata": {
  "kernelspec": {
   "display_name": "Python 3",
   "language": "python",
   "name": "python3"
  },
  "language_info": {
   "codemirror_mode": {
    "name": "ipython",
    "version": 3
   },
   "file_extension": ".py",
   "mimetype": "text/x-python",
   "name": "python",
   "nbconvert_exporter": "python",
   "pygments_lexer": "ipython3",
   "version": "3.6.3"
  }
 },
 "nbformat": 4,
 "nbformat_minor": 2
}
